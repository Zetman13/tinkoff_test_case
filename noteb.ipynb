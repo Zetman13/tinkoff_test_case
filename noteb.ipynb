{
 "cells": [
  {
   "cell_type": "code",
   "execution_count": 1,
   "metadata": {},
   "outputs": [],
   "source": [
    "from sklearn.model_selection import cross_val_score\n",
    "\n",
    "from sklearn import pipeline, preprocessing, compose, feature_selection, linear_model\n",
    "from sklearn.compose import ColumnTransformer\n",
    "from sklearn.impute import SimpleImputer\n",
    "from sklearn.preprocessing import OneHotEncoder\n",
    "from sklearn.metrics import mean_absolute_error\n",
    "from sklearn import decomposition\n",
    "from sklearn.ensemble import RandomForestRegressor\n",
    "from sklearn import neural_network\n",
    "\n",
    "from xgboost import XGBRegressor"
   ]
  },
  {
   "cell_type": "markdown",
   "metadata": {},
   "source": [
    "# Кейс с тестирования магистратуры Тинькофф"
   ]
  },
  {
   "cell_type": "markdown",
   "metadata": {},
   "source": [
    "Подключаем библиотеки для работы с данными:"
   ]
  },
  {
   "cell_type": "code",
   "execution_count": 2,
   "metadata": {},
   "outputs": [],
   "source": [
    "import numpy as np\n",
    "import pandas as pd\n",
    "\n",
    "np.random.seed(23)"
   ]
  },
  {
   "cell_type": "markdown",
   "metadata": {},
   "source": [
    "Считаем датасет, переименуем колонки в нормальные имена и заменим знаки вопроса на NaN:"
   ]
  },
  {
   "cell_type": "code",
   "execution_count": 3,
   "metadata": {},
   "outputs": [],
   "source": [
    "df = pd.read_csv('imports-85.data', header=None)\n",
    "df.rename(columns={\n",
    "    0: 'symboling',\n",
    "    1: 'normalized-losses',\n",
    "    2: 'make',\n",
    "    3: 'fuel-type',\n",
    "    4: 'aspiration',\n",
    "    5: 'num-of-doors',\n",
    "    6: 'body-style',\n",
    "    7: 'drive-wheels',\n",
    "    8: 'engine-location',\n",
    "    9: 'wheel-base',\n",
    "    10: 'length',\n",
    "    11: 'width',\n",
    "    12: 'height',\n",
    "    13: 'curb-weight',\n",
    "    14: 'engine-type',\n",
    "    15: 'num-of-cylinders',\n",
    "    16: 'engine-size',\n",
    "    17: 'fuel-system',\n",
    "    18: 'bore',\n",
    "    19: 'stroke',\n",
    "    20: 'compression-ratio',\n",
    "    21: 'horsepower',\n",
    "    22: 'peak-rpm',\n",
    "    23: 'city-mpg',\n",
    "    24: 'highway-mpg',\n",
    "    25: 'price',\n",
    "}, inplace=True)\n",
    "df.replace('?', np.nan, inplace=True)"
   ]
  },
  {
   "cell_type": "markdown",
   "metadata": {},
   "source": [
    "Изучим датасет, посмотрим сколько есть отсутствующих данных в каждой колонке:"
   ]
  },
  {
   "cell_type": "code",
   "execution_count": 4,
   "metadata": {},
   "outputs": [
    {
     "data": {
      "text/plain": [
       "symboling             0\n",
       "normalized-losses    41\n",
       "make                  0\n",
       "fuel-type             0\n",
       "aspiration            0\n",
       "num-of-doors          2\n",
       "body-style            0\n",
       "drive-wheels          0\n",
       "engine-location       0\n",
       "wheel-base            0\n",
       "length                0\n",
       "width                 0\n",
       "height                0\n",
       "curb-weight           0\n",
       "engine-type           0\n",
       "num-of-cylinders      0\n",
       "engine-size           0\n",
       "fuel-system           0\n",
       "bore                  4\n",
       "stroke                4\n",
       "compression-ratio     0\n",
       "horsepower            2\n",
       "peak-rpm              2\n",
       "city-mpg              0\n",
       "highway-mpg           0\n",
       "price                 4\n",
       "dtype: int64"
      ]
     },
     "execution_count": 4,
     "metadata": {},
     "output_type": "execute_result"
    }
   ],
   "source": [
    "df.isna().sum()"
   ]
  },
  {
   "cell_type": "markdown",
   "metadata": {},
   "source": [
    "Заметим, что в колонке normalized-losses есть 41 Nan из 205 данных, т.е. почти 20 процентов. Поэтому исключим этот признак из рассмотрения:"
   ]
  },
  {
   "cell_type": "code",
   "execution_count": 5,
   "metadata": {},
   "outputs": [],
   "source": [
    "df.drop(['normalized-losses'], axis=1, inplace=True)"
   ]
  },
  {
   "cell_type": "markdown",
   "metadata": {},
   "source": [
    "Изучим датасет, посмотрев уникальные значения по каждому категориальному признаку"
   ]
  },
  {
   "cell_type": "code",
   "execution_count": 6,
   "metadata": {},
   "outputs": [
    {
     "data": {
      "text/plain": [
       "toyota           32\n",
       "nissan           18\n",
       "mazda            17\n",
       "mitsubishi       13\n",
       "honda            13\n",
       "volkswagen       12\n",
       "subaru           12\n",
       "volvo            11\n",
       "peugot           11\n",
       "dodge             9\n",
       "bmw               8\n",
       "mercedes-benz     8\n",
       "audi              7\n",
       "plymouth          7\n",
       "saab              6\n",
       "porsche           5\n",
       "isuzu             4\n",
       "alfa-romero       3\n",
       "jaguar            3\n",
       "chevrolet         3\n",
       "renault           2\n",
       "mercury           1\n",
       "Name: make, dtype: int64"
      ]
     },
     "execution_count": 6,
     "metadata": {},
     "output_type": "execute_result"
    }
   ],
   "source": [
    "df['make'].value_counts()"
   ]
  },
  {
   "cell_type": "markdown",
   "metadata": {},
   "source": [
    "Уберем данные с малым количеством цилиндров как выбросы:"
   ]
  },
  {
   "cell_type": "code",
   "execution_count": 7,
   "metadata": {},
   "outputs": [],
   "source": [
    "df = df.loc[~df['num-of-cylinders'].isin(['twelve', 'three', 'two', 'eight'])]\n",
    "df = df.loc[~df['num-of-cylinders'].isin(['mercury', 'jaguar', 'chevrolet', 'renault'])]"
   ]
  },
  {
   "cell_type": "markdown",
   "metadata": {},
   "source": [
    "Разделим датасет на признаки и целевые значения:"
   ]
  },
  {
   "cell_type": "code",
   "execution_count": 8,
   "metadata": {},
   "outputs": [],
   "source": [
    "X = df.drop(['symboling'], axis=1)\n",
    "y = df['symboling']"
   ]
  },
  {
   "cell_type": "markdown",
   "metadata": {},
   "source": [
    "Выделим численные и категориальные признаки:"
   ]
  },
  {
   "cell_type": "code",
   "execution_count": 9,
   "metadata": {},
   "outputs": [],
   "source": [
    "numeric_columns = [\n",
    "    'wheel-base', \n",
    "    'length',\n",
    "    'width',\n",
    "    'height',\n",
    "    'curb-weight',\n",
    "    'engine-size',\n",
    "    'bore',\n",
    "    'stroke',\n",
    "    'compression-ratio',\n",
    "    'horsepower',\n",
    "    'peak-rpm',\n",
    "    'city-mpg',\n",
    "    'highway-mpg',\n",
    "    'price',\n",
    "]\n",
    "categorical_columns = [\n",
    "    'make',\n",
    "    'fuel-type',\n",
    "    'aspiration',\n",
    "    'num-of-doors',\n",
    "    'body-style',\n",
    "    'drive-wheels',\n",
    "    'engine-location',\n",
    "    'engine-type',\n",
    "    'num-of-cylinders',\n",
    "    'fuel-system',\n",
    "]"
   ]
  },
  {
   "cell_type": "code",
   "execution_count": 10,
   "metadata": {},
   "outputs": [],
   "source": [
    "xgb = XGBRegressor(n_estimators=1000, learning_rate=0.1)\n",
    "nn = neural_network.MLPRegressor(hidden_layer_sizes=(100, 20, 10), activation='relu', solver='lbfgs', alpha=1e+1)"
   ]
  },
  {
   "cell_type": "code",
   "execution_count": 11,
   "metadata": {},
   "outputs": [],
   "source": [
    "numeric_pipeline = pipeline.Pipeline(steps=[\n",
    "    ('imputing', SimpleImputer(strategy='mean')),\n",
    "    ('feature_selection', feature_selection.VarianceThreshold(2.0)),\n",
    "    ('scaling', preprocessing.StandardScaler()),\n",
    "])\n",
    "\n",
    "categorical_pipeline = pipeline.Pipeline(steps=[\n",
    "    ('imputing', SimpleImputer(strategy='most_frequent')),\n",
    "    ('onehot_encoding', OneHotEncoder(handle_unknown='ignore')),\n",
    "    ('feature_selection', feature_selection.SelectKBest(feature_selection.mutual_info_regression, k=34)),\n",
    "])\n",
    "\n",
    "column_transformer = compose.ColumnTransformer([\n",
    "    ('numeric', numeric_pipeline, numeric_columns),\n",
    "    ('categorical', categorical_pipeline, categorical_columns)\n",
    "])\n",
    "\n",
    "estimator = pipeline.Pipeline(steps=[\n",
    "    ('preprocessing', column_transformer),\n",
    "    ('model_fitting', xgb),\n",
    "])"
   ]
  },
  {
   "cell_type": "code",
   "execution_count": 12,
   "metadata": {},
   "outputs": [
    {
     "data": {
      "text/plain": [
       "0.8176783250571728"
      ]
     },
     "execution_count": 12,
     "metadata": {},
     "output_type": "execute_result"
    }
   ],
   "source": [
    "scores = -1 * cross_val_score(estimator, X, y, cv=10, scoring='neg_mean_squared_error')\n",
    "scores.mean()"
   ]
  },
  {
   "cell_type": "code",
   "execution_count": null,
   "metadata": {},
   "outputs": [],
   "source": []
  }
 ],
 "metadata": {
  "kernelspec": {
   "display_name": "Python 3",
   "language": "python",
   "name": "python3"
  },
  "language_info": {
   "codemirror_mode": {
    "name": "ipython",
    "version": 3
   },
   "file_extension": ".py",
   "mimetype": "text/x-python",
   "name": "python",
   "nbconvert_exporter": "python",
   "pygments_lexer": "ipython3",
   "version": "3.7.4"
  }
 },
 "nbformat": 4,
 "nbformat_minor": 2
}
